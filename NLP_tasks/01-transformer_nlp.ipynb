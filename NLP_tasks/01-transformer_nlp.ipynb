{
 "cells": [
  {
   "cell_type": "markdown",
   "metadata": {},
   "source": [
    "- pipeline\n",
    "- tokenizer\n",
    "- model\n",
    "- datasets\n",
    "- evaluate\n",
    "- trainer"
   ]
  },
  {
   "cell_type": "markdown",
   "metadata": {},
   "source": [
    "导入相关包\n",
    "加载数据集\n",
    "数据集划分\n",
    "数据集预处理\n",
    "创建模型\n",
    "设置评估函数\n",
    "配置训练参数\n",
    "创建训练参数\n",
    "模型训练、评估、预测\n",
    "模型预测"
   ]
  },
  {
   "cell_type": "markdown",
   "metadata": {},
   "source": [
    "显存占用分析\n",
    "- 模型权重  4Bytes*模型参数量\n",
    "- 优化器状态 8Bytes*模型参数量\n",
    "- 梯度  4Bytes*模型参数量\n",
    "- 前向激活值 取决于序列长度、隐层维度、batch大小等多个因素"
   ]
  },
  {
   "cell_type": "markdown",
   "metadata": {},
   "source": [
    "显存占用优化策略分析\n",
    "- gradient accmulation 梯度累加\n",
    "- gradient checkpoints 正向传播的过程中边丢弃一些中间变量，在反向传播的时候再重新计算\n",
    "- adafactor optimizer 不计算梯度的二阶正定矩阵，用了另外一种相似矩阵分解技术，加快了模型显存的占用\n",
    "- freeze model 其实这是一种策略，而不是一种方法\n",
    "- data length 输入数据的长度"
   ]
  },
  {
   "cell_type": "markdown",
   "metadata": {},
   "source": [
    "| 优化策略                                      | 优化对象         | 显存占用 | 训练时间 |\n",
    "|---------------------------------------------|-----------------|----------|----------|\n",
    "| Baseline (BS 32, MaxLength 128)             | -               | 15.2G    | 64s      |\n",
    "| + Gradient Accumulation (BS 1, GA 32)       | 前向激活值      |   7.4G       |    259s      |\n",
    "| + Gradient Checkpoints (BS 1, GA 32)        | 前向激活值      |    7.2G      |     422s     |\n",
    "| + Adafactor Optimizer (BS 1, GA 32)         | 优化器状态      |     5.0G     |     406s     |\n",
    "| + Freeze Model (BS 1, GA 32)                | 前向激活值 / 梯度 |      3.4G    |      180s    |\n",
    "| + Data Length (BS 1, GA 32, MaxLength 64)   | 前向激活值      |     3.3G     |      126s    |"
   ]
  },
  {
   "cell_type": "code",
   "execution_count": null,
   "metadata": {},
   "outputs": [],
   "source": [
    "from transformers import AutoTokenizer, AutoModelForSequenceClassification, Trainer, TrainingArguments\n",
    "from datasets import load_dataset\n",
    "import torch\n",
    "import evaluate\n",
    "from transformers import DataCollatorWithPadding\n",
    "from transformers import pipeline\n",
    "\n",
    "def process_function(examples):\n",
    "    tokenized_examples = tokenizer(examples[\"review\"], max_length=32, truncation=True, padding=\"max_length\")\n",
    "    tokenized_examples[\"labels\"] = examples[\"label\"]\n",
    "    return tokenized_examples\n",
    "\n",
    "def eval_metric(eval_predict):\n",
    "    predictions, labels = eval_predict\n",
    "    predictions = predictions.argmax(axis=-1)\n",
    "    acc = acc_metric.compute(predictions=predictions, references=labels)\n",
    "    f1 = f1_metirc.compute(predictions=predictions, references=labels)\n",
    "    acc.update(f1)\n",
    "    return acc\n",
    "\n",
    "dataset = load_dataset(\"csv\", data_files=\"./ChnSentiCorp_htl_all.csv\", split=\"train\")\n",
    "dataset = dataset.filter(lambda x: x[\"review\"] is not None)\n",
    "datasets = dataset.train_test_split(test_size=0.1)\n",
    "\n",
    "tokenizer = AutoTokenizer.from_pretrained(\"hfl/chinese-macbert-large\")\n",
    "tokenized_datasets = datasets.map(process_function, batched=True, remove_columns=datasets[\"train\"].column_names)\n",
    "\n",
    "model = AutoModelForSequenceClassification.from_pretrained(\"hfl/chinese-macbert-large\")\n",
    "acc_metric = evaluate.load(\"./metric_accuracy.py\")\n",
    "f1_metirc = evaluate.load(\"./metric_f1.py\")\n",
    "\n",
    "train_args = TrainingArguments(output_dir=\"./checkpoints\",      # 输出文件夹\n",
    "                               per_device_train_batch_size=2,   # 训练时的batch_size\n",
    "                               gradient_accumulation_steps=32,  # *** 梯度累加 ***\n",
    "                               gradient_checkpointing=True,     # *** 梯度检查点 ***\n",
    "                               optim=\"adafactor\",               # *** adafactor优化器 *** \n",
    "                               per_device_eval_batch_size=4,    # 验证时的batch_size\n",
    "                               num_train_epochs=1,              # 训练轮数\n",
    "                               logging_steps=10,                # log 打印的频率\n",
    "                               eval_strategy=\"epoch\",     # 评估策略\n",
    "                               save_strategy=\"epoch\",           # 保存策略\n",
    "                               save_total_limit=3,              # 最大保存数\n",
    "                               learning_rate=2e-5,              # 学习率\n",
    "                               weight_decay=0.001,              # weight_decay\n",
    "                               metric_for_best_model=\"f1\",      # 设定评估指标\n",
    "                               load_best_model_at_end=True)     # 训练完成后加载最优模型\n",
    "\n",
    "# *** 参数冻结 *** \n",
    "for name, param in model.bert.named_parameters():\n",
    "    param.requires_grad = False\n",
    "\n",
    "trainer = Trainer(model=model, \n",
    "                  args=train_args, \n",
    "                  tokenizer=tokenizer,\n",
    "                  train_dataset=tokenized_datasets[\"train\"], \n",
    "                  eval_dataset=tokenized_datasets[\"test\"], \n",
    "                  data_collator=DataCollatorWithPadding(tokenizer=tokenizer),\n",
    "                  compute_metrics=eval_metric)\n",
    "\n",
    "trainer.train()\n",
    "trainer.evaluate(tokenized_datasets[\"test\"])\n",
    "trainer.predict(tokenized_datasets[\"test\"])"
   ]
  },
  {
   "cell_type": "code",
   "execution_count": null,
   "metadata": {},
   "outputs": [],
   "source": [
    "sen = \"我觉得这家酒店不错，饭很好吃！\"\n",
    "id2_label = {0: \"差评！\", 1: \"好评！\"}\n",
    "model.eval()\n",
    "with torch.inference_mode():\n",
    "    inputs = tokenizer(sen, return_tensors=\"pt\")\n",
    "    inputs = {k: v.cuda() for k, v in inputs.items()}\n",
    "    logits = model(**inputs).logits\n",
    "    pred = torch.argmax(logits, dim=-1)\n",
    "    print(f\"输入：{sen}\\n模型预测结果:{id2_label.get(pred.item())}\")\n",
    "\n",
    "model.config.id2label = id2_label\n",
    "pipe = pipeline(\"text-classification\", model=model, tokenizer=tokenizer, device=0)\n",
    "pipe(sen)"
   ]
  }
 ],
 "metadata": {
  "kernelspec": {
   "display_name": "py311_langchainchat",
   "language": "python",
   "name": "python3"
  },
  "language_info": {
   "codemirror_mode": {
    "name": "ipython",
    "version": 3
   },
   "file_extension": ".py",
   "mimetype": "text/x-python",
   "name": "python",
   "nbconvert_exporter": "python",
   "pygments_lexer": "ipython3",
   "version": "3.11.8"
  },
  "orig_nbformat": 4
 },
 "nbformat": 4,
 "nbformat_minor": 2
}
