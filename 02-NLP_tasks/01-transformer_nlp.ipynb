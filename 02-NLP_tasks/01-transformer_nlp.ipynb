{
 "cells": [
  {
   "cell_type": "markdown",
   "metadata": {},
   "source": [
    "- pipeline\n",
    "- tokenizer\n",
    "- model\n",
    "- datasets\n",
    "- evaluate\n",
    "- trainer"
   ]
  },
  {
   "cell_type": "markdown",
   "metadata": {},
   "source": [
    "导入相关包\n",
    "加载数据集\n",
    "数据集划分\n",
    "数据集预处理\n",
    "创建模型\n",
    "设置评估函数\n",
    "配置训练参数\n",
    "创建训练参数\n",
    "模型训练、评估、预测\n",
    "模型预测"
   ]
  },
  {
   "cell_type": "markdown",
   "metadata": {},
   "source": [
    "显存占用分析\n",
    "- 模型权重  4Bytes*模型参数量\n",
    "- 优化器状态 8Bytes*模型参数量\n",
    "- 梯度  4Bytes*模型参数量\n",
    "- 前向激活值 取决于序列长度、隐层维度、batch大小等多个因素"
   ]
  },
  {
   "cell_type": "markdown",
   "metadata": {},
   "source": [
    "显存占用优化策略分析\n",
    "- gradient accmulation 梯度累加\n",
    "- gradient checkpoints 正向传播的过程中边丢弃一些中间变量，在反向传播的时候再重新计算\n",
    "- adafactor optimizer 不计算梯度的二阶正定矩阵，用了另外一种相似矩阵分解技术，加快了模型显存的占用\n",
    "- freeze model 其实这是一种策略，而不是一种方法\n",
    "- data length 输入数据的长度"
   ]
  },
  {
   "cell_type": "markdown",
   "metadata": {},
   "source": [
    "| 优化策略                                      | 优化对象         | 显存占用 | 训练时间 |\n",
    "|---------------------------------------------|-----------------|----------|----------|\n",
    "| Baseline (BS 32, MaxLength 128)             | -               | 15.2G    | 64s      |\n",
    "| + Gradient Accumulation (BS 1, GA 32)       | 前向激活值      |   7.4G       |    259s      |\n",
    "| + Gradient Checkpoints (BS 1, GA 32)        | 前向激活值      |    7.2G      |     422s     |\n",
    "| + Adafactor Optimizer (BS 1, GA 32)         | 优化器状态      |     5.0G     |     406s     |\n",
    "| + Freeze Model (BS 1, GA 32)                | 前向激活值 / 梯度 |      3.4G    |      180s    |\n",
    "| + Data Length (BS 1, GA 32, MaxLength 64)   | 前向激活值      |     3.3G     |      126s    |"
   ]
  },
  {
   "cell_type": "code",
   "execution_count": null,
   "metadata": {},
   "outputs": [],
   "source": [
    "from transformers import AutoTokenizer, AutoModelForSequenceClassification, Trainer, TrainingArguments\n",
    "from datasets import load_dataset\n",
    "import torch\n",
    "import evaluate\n",
    "from transformers import DataCollatorWithPadding\n",
    "from transformers import pipeline\n",
    "\n",
    "# 定义数据预处理函数，用于将文本转换为模型可以接受的格式，并添加标签\n",
    "def process_function(examples):\n",
    "    # 使用分词器对评论进行编码，并设置最大长度、截断和填充\n",
    "    tokenized_examples = tokenizer(examples[\"review\"], max_length=32, truncation=True, padding=\"max_length\")\n",
    "    # 将原始数据集中的标签添加到编码后的字典中\n",
    "    tokenized_examples[\"labels\"] = examples[\"label\"]\n",
    "    return tokenized_examples\n",
    "\n",
    "# 定义评估指标计算函数，用于在验证或测试时计算模型性能\n",
    "def eval_metric(eval_predict):\n",
    "    predictions, labels = eval_predict  # 分离预测结果和真实标签\n",
    "    predictions = predictions.argmax(axis=-1)  # 获取每个样本的最大概率对应的类别作为预测类别\n",
    "    acc = acc_metric.compute(predictions=predictions, references=labels)  # 计算准确率\n",
    "    f1 = f1_metirc.compute(predictions=predictions, references=labels)  # 计算F1分数\n",
    "    acc.update(f1)  # 将F1分数更新到准确率字典中，以便一起返回\n",
    "    return acc\n",
    "\n",
    "# 加载CSV文件格式的数据集，并指定分割为训练集\n",
    "dataset = load_dataset(\"csv\", data_files=\"./ChnSentiCorp_htl_all.csv\", split=\"train\")\n",
    "\n",
    "# 过滤掉评论为空的数据项\n",
    "dataset = dataset.filter(lambda x: x[\"review\"] is not None)\n",
    "\n",
    "# 将数据集划分为训练集和测试集，测试集占10%\n",
    "datasets = dataset.train_test_split(test_size=0.1)\n",
    "\n",
    "# 加载预训练的分词器，这里使用的是中文的macBERT-large模型对应的分词器\n",
    "tokenizer = AutoTokenizer.from_pretrained(\"hfl/chinese-macbert-large\")\n",
    "\n",
    "# 对数据集进行批量处理，应用process_function函数来准备模型输入，并移除原始列名\n",
    "tokenized_datasets = datasets.map(process_function, batched=True, remove_columns=datasets[\"train\"].column_names)\n",
    "\n",
    "# 加载预训练的序列分类模型，这里同样选择的是中文的macBERT-large模型\n",
    "model = AutoModelForSequenceClassification.from_pretrained(\"hfl/chinese-macbert-large\")\n",
    "\n",
    "# 加载自定义的准确率和F1评分度量脚本（假设这些脚本已经存在）\n",
    "acc_metric = evaluate.load(\"./metric_accuracy.py\")\n",
    "f1_metirc = evaluate.load(\"./metric_f1.py\")\n",
    "\n",
    "# 配置训练参数\n",
    "train_args = TrainingArguments(\n",
    "    output_dir=\"./checkpoints\",      # 输出目录，保存检查点等文件\n",
    "    per_device_train_batch_size=2,   # 每个设备上的训练批次大小\n",
    "    gradient_accumulation_steps=32,  # 梯度累积步数，用于模拟更大的批次大小\n",
    "    gradient_checkpointing=True,     # 启用梯度检查点技术以节省显存\n",
    "    optim=\"adafactor\",               # 使用Adafactor优化算法\n",
    "    per_device_eval_batch_size=4,    # 每个设备上的评估批次大小\n",
    "    num_train_epochs=1,              # 总共训练的轮数\n",
    "    logging_steps=10,                # 每隔多少步打印一次日志信息\n",
    "    eval_strategy=\"epoch\",           # 在每个epoch结束时进行评估\n",
    "    save_strategy=\"epoch\",           # 在每个epoch结束时保存模型\n",
    "    save_total_limit=3,              # 最多保存3个检查点\n",
    "    learning_rate=2e-5,              # 初始学习率\n",
    "    weight_decay=0.001,              # 权重衰减系数\n",
    "    metric_for_best_model=\"f1\",      # 根据哪个指标选择最佳模型\n",
    "    load_best_model_at_end=True      # 在训练结束后加载最优模型\n",
    ")\n",
    "\n",
    "# 冻结BERT层的参数，只训练分类头部分。这有助于减少训练时间和资源消耗。\n",
    "for name, param in model.bert.named_parameters():\n",
    "    param.requires_grad = False\n",
    "\n",
    "# 创建Trainer实例，负责管理模型训练、评估和预测过程\n",
    "trainer = Trainer(\n",
    "    model=model, \n",
    "    args=train_args, \n",
    "    tokenizer=tokenizer,\n",
    "    train_dataset=tokenized_datasets[\"train\"],  # 训练数据集\n",
    "    eval_dataset=tokenized_datasets[\"test\"],    # 测试数据集\n",
    "    data_collator=DataCollatorWithPadding(tokenizer=tokenizer),  # 数据整理器，确保batch内的序列长度一致\n",
    "    compute_metrics=eval_metric  # 自定义的评估指标计算函数\n",
    ")\n",
    "\n",
    "# 开始训练模型\n",
    "trainer.train()\n",
    "\n",
    "# 在测试集上评估模型性能\n",
    "trainer.evaluate(tokenized_datasets[\"test\"])\n",
    "\n",
    "# 在测试集上进行预测并输出预测结果\n",
    "trainer.predict(tokenized_datasets[\"test\"])"
   ]
  },
  {
   "cell_type": "code",
   "execution_count": null,
   "metadata": {},
   "outputs": [],
   "source": [
    "sen = \"我觉得这家酒店不错，饭很好吃！\"\n",
    "id2_label = {0: \"差评！\", 1: \"好评！\"}\n",
    "model.eval()\n",
    "with torch.inference_mode():\n",
    "    inputs = tokenizer(sen, return_tensors=\"pt\")\n",
    "    inputs = {k: v.cuda() for k, v in inputs.items()}\n",
    "    logits = model(**inputs).logits\n",
    "    pred = torch.argmax(logits, dim=-1)\n",
    "    print(f\"输入：{sen}\\n模型预测结果:{id2_label.get(pred.item())}\")\n",
    "\n",
    "model.config.id2label = id2_label\n",
    "pipe = pipeline(\"text-classification\", model=model, tokenizer=tokenizer, device=0)\n",
    "pipe(sen)"
   ]
  }
 ],
 "metadata": {
  "kernelspec": {
   "display_name": "py311_langchainchat",
   "language": "python",
   "name": "python3"
  },
  "language_info": {
   "codemirror_mode": {
    "name": "ipython",
    "version": 3
   },
   "file_extension": ".py",
   "mimetype": "text/x-python",
   "name": "python",
   "nbconvert_exporter": "python",
   "pygments_lexer": "ipython3",
   "version": "3.11.8"
  },
  "orig_nbformat": 4
 },
 "nbformat": 4,
 "nbformat_minor": 2
}
