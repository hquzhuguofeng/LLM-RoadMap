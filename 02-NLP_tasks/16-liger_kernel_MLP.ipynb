{
 "cells": [
  {
   "cell_type": "code",
   "execution_count": null,
   "metadata": {},
   "outputs": [],
   "source": [
    "from transformers import AutoModelForCausalLM\n",
    "from transformers.models.qwen2 import Qwen2Config, Qwen2ForCausalLM\n",
    "from transformers.models.qwen2.modeling_qwen2 import Qwen2MLP\n",
    "from transformers.activations import ACT2FN\n",
    "import torch.nn as nn"
   ]
  },
  {
   "cell_type": "code",
   "execution_count": null,
   "metadata": {},
   "outputs": [],
   "source": [
    "config = Qwen2Config(\n",
    "    vocab_size=151936,\n",
    "    hidden_size=4096,\n",
    "    intermediate_size=22016,\n",
    "    num_hidden_layers=32,\n",
    "    num_attention_heads=32,\n",
    "    max_position_embeddings=32768\n",
    ")"
   ]
  },
  {
   "cell_type": "code",
   "execution_count": null,
   "metadata": {},
   "outputs": [],
   "source": [
    "class Qwen2MLP2(nn.Module):\n",
    "    def __init__(self, config):\n",
    "        super().__init__()\n",
    "        self.config = config\n",
    "        self.hidden_size = config.hidden_size\n",
    "        self.intermediate_size = config.intermediate_size\n",
    "        self.gate_proj = nn.Linear(self.hidden_size, self.intermediate_size, bias=False)\n",
    "        self.up_proj = nn.Linear(self.hidden_size, self.intermediate_size, bias=False)\n",
    "        self.down_proj = nn.Linear(self.intermediate_size, self.hidden_size, bias=False)\n",
    "        self.act_fn = ACT2FN[config.hidden_act]\n",
    "\n",
    "    def forward(self, x):\n",
    "        down_proj = self.down_proj(self.act_fn(self.gate_proj(x)) * self.up_proj(x))\n",
    "        return down_proj\n",
    "\n",
    "class Qwen2MLP3(Qwen2MLP):\n",
    "\n",
    "    def forward(self, x):\n",
    "        print(\"edit by guofeng\")\n",
    "        down_proj = self.down_proj(self.act_fn(self.gate_proj(x)) * self.up_proj(x))\n",
    "        return down_proj\n",
    "    \n",
    "\n",
    "    \n",
    "class Qwen2MLP4(Qwen2MLP):\n",
    "\n",
    "    def forward(self, x):\n",
    "        print(\"edit by guofeng\")\n",
    "        tmp = self.act_fn(self.gate_proj(x)) * self.up_proj(x)\n",
    "        down_proj = self.down_proj(tmp)\n",
    "        return down_proj"
   ]
  },
  {
   "cell_type": "code",
   "execution_count": null,
   "metadata": {},
   "outputs": [],
   "source": [
    "def apply_mlp(type : str) -> None:\n",
    "\n",
    "    from transformers.models.qwen2 import modeling_qwen2\n",
    "\n",
    "    if type == 'simple':\n",
    "        modeling_qwen2.Qwen2MLP = Qwen2MLP2\n",
    "\n",
    "    elif type == 'v2':\n",
    "        modeling_qwen2.Qwen2MLP = Qwen2MLP3\n",
    "\n",
    "    elif type == 'liger_kernel':\n",
    "        modeling_qwen2.Qwen2MLP = Qwen2MLP4"
   ]
  },
  {
   "cell_type": "code",
   "execution_count": null,
   "metadata": {},
   "outputs": [],
   "source": [
    "model = Qwen2ForCausalLM(config=config)"
   ]
  },
  {
   "cell_type": "code",
   "execution_count": null,
   "metadata": {},
   "outputs": [],
   "source": []
  },
  {
   "cell_type": "code",
   "execution_count": null,
   "metadata": {},
   "outputs": [],
   "source": []
  },
  {
   "cell_type": "code",
   "execution_count": null,
   "metadata": {},
   "outputs": [],
   "source": []
  },
  {
   "cell_type": "code",
   "execution_count": null,
   "metadata": {},
   "outputs": [],
   "source": []
  }
 ],
 "metadata": {
  "kernelspec": {
   "display_name": "py39",
   "language": "python",
   "name": "python3"
  },
  "language_info": {
   "codemirror_mode": {
    "name": "ipython",
    "version": 3
   },
   "file_extension": ".py",
   "mimetype": "text/x-python",
   "name": "python",
   "nbconvert_exporter": "python",
   "pygments_lexer": "ipython3",
   "version": "3.9.20"
  }
 },
 "nbformat": 4,
 "nbformat_minor": 2
}
