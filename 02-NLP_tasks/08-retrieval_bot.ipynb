{
 "cells": [
  {
   "cell_type": "markdown",
   "metadata": {},
   "source": [
    "# 检索机器人"
   ]
  },
  {
   "cell_type": "markdown",
   "metadata": {},
   "source": [
    "## Step1 读取faq数据"
   ]
  },
  {
   "cell_type": "code",
   "execution_count": 1,
   "metadata": {},
   "outputs": [
    {
     "data": {
      "text/html": [
       "<div>\n",
       "<style scoped>\n",
       "    .dataframe tbody tr th:only-of-type {\n",
       "        vertical-align: middle;\n",
       "    }\n",
       "\n",
       "    .dataframe tbody tr th {\n",
       "        vertical-align: top;\n",
       "    }\n",
       "\n",
       "    .dataframe thead th {\n",
       "        text-align: right;\n",
       "    }\n",
       "</style>\n",
       "<table border=\"1\" class=\"dataframe\">\n",
       "  <thead>\n",
       "    <tr style=\"text-align: right;\">\n",
       "      <th></th>\n",
       "      <th>title</th>\n",
       "      <th>reply</th>\n",
       "    </tr>\n",
       "  </thead>\n",
       "  <tbody>\n",
       "    <tr>\n",
       "      <th>0</th>\n",
       "      <td>在法律中定金与订金的区别订金和定金哪个受</td>\n",
       "      <td>“定金”是指当事人约定由一方向对方给付的，作为债权担保的一定数额的货币，它属于一种法律上的担...</td>\n",
       "    </tr>\n",
       "    <tr>\n",
       "      <th>1</th>\n",
       "      <td>盗窃罪的犯罪客体是什么，盗窃罪的犯罪主体</td>\n",
       "      <td>盗窃罪的客体要件本罪侵犯的客体是公私财物的所有权。侵犯的对象，是国家、集体或个人的财物，一般...</td>\n",
       "    </tr>\n",
       "    <tr>\n",
       "      <th>2</th>\n",
       "      <td>非法微整形机构构成非法经营罪吗</td>\n",
       "      <td>符合要件就有可能。非法经营罪，是指未经许可经营专营、专卖物品或其他限制买卖的物品，买卖进出口...</td>\n",
       "    </tr>\n",
       "    <tr>\n",
       "      <th>3</th>\n",
       "      <td>入室持刀行凶伤人能不能判刑</td>\n",
       "      <td>对于入室持刀伤人涉嫌故意伤害刑事犯罪，一经定罪，故意伤害他人身体的，处三年以下有期徒刑、拘役...</td>\n",
       "    </tr>\n",
       "    <tr>\n",
       "      <th>4</th>\n",
       "      <td>对交通事故责任认定书不服怎么办，交通事故损</td>\n",
       "      <td>事故认定书下发后，如果你对认定不满意，可在接到认定书3日内到上一级公安机关复议。</td>\n",
       "    </tr>\n",
       "  </tbody>\n",
       "</table>\n",
       "</div>"
      ],
      "text/plain": [
       "                   title                                              reply\n",
       "0   在法律中定金与订金的区别订金和定金哪个受  “定金”是指当事人约定由一方向对方给付的，作为债权担保的一定数额的货币，它属于一种法律上的担...\n",
       "1   盗窃罪的犯罪客体是什么，盗窃罪的犯罪主体  盗窃罪的客体要件本罪侵犯的客体是公私财物的所有权。侵犯的对象，是国家、集体或个人的财物，一般...\n",
       "2        非法微整形机构构成非法经营罪吗  符合要件就有可能。非法经营罪，是指未经许可经营专营、专卖物品或其他限制买卖的物品，买卖进出口...\n",
       "3          入室持刀行凶伤人能不能判刑  对于入室持刀伤人涉嫌故意伤害刑事犯罪，一经定罪，故意伤害他人身体的，处三年以下有期徒刑、拘役...\n",
       "4  对交通事故责任认定书不服怎么办，交通事故损           事故认定书下发后，如果你对认定不满意，可在接到认定书3日内到上一级公安机关复议。"
      ]
     },
     "execution_count": 1,
     "metadata": {},
     "output_type": "execute_result"
    }
   ],
   "source": [
    "import pandas as pd\n",
    "\n",
    "data = pd.read_csv(\"./data/law_faq.csv\")\n",
    "data.head()"
   ]
  },
  {
   "cell_type": "markdown",
   "metadata": {},
   "source": [
    "## Step2 加载模型"
   ]
  },
  {
   "cell_type": "code",
   "execution_count": 2,
   "metadata": {},
   "outputs": [
    {
     "name": "stdout",
     "output_type": "stream",
     "text": [
      "匹配模型加载成功！\n"
     ]
    }
   ],
   "source": [
    "from dual_model_bert import DualModel\n",
    "\n",
    "# 需要完成前置模型训练\n",
    "dual_model = DualModel.from_pretrained(\"./dual_model/checkpoint-2000/\")\n",
    "dual_model = dual_model.cuda()\n",
    "dual_model.eval()\n",
    "print(\"匹配模型加载成功！\")"
   ]
  },
  {
   "cell_type": "code",
   "execution_count": 3,
   "metadata": {},
   "outputs": [],
   "source": [
    "from transformers import AutoTokenizer\n",
    "tokenizer = AutoTokenizer.from_pretrained(\"D:/pretrained_model/models--hfl--chinese-macbert-base\")"
   ]
  },
  {
   "cell_type": "markdown",
   "metadata": {},
   "source": [
    "## Step3 将问题编码为向量"
   ]
  },
  {
   "cell_type": "code",
   "execution_count": 4,
   "metadata": {},
   "outputs": [],
   "source": [
    "import torch\n",
    "\n",
    "questions = data['title'].to_list()\n",
    "vectors = []\n",
    "\n",
    "with torch.inference_mode():\n",
    "    for i in range(0, len(questions), 4):\n",
    "        batch_sens = questions[i : i + 4]\n",
    "        inputs = tokenizer(batch_sens, return_tensors='pt', max_length=128, truncation=True, padding=True)\n",
    "        inputs = {k:v.to(dual_model.device) for k,v in inputs.items()}\n",
    "        vector = dual_model.bert(**inputs)[1] # 拿到的是CLS token向量 [0]是句子的Bert表征\n",
    "        vectors.append(vector)\n",
    "\n",
    "vectors = torch.concat(vectors, dim=0).cpu().numpy() # Faiss 的 API 设计时假设输入数据是 NumPy 数组，因此为了保持一致性和避免潜在的问题，通常需要将 PyTorch 张量转换为 NumPy 数组。\n"
   ]
  },
  {
   "cell_type": "code",
   "execution_count": 7,
   "metadata": {},
   "outputs": [
    {
     "data": {
      "text/plain": [
       "(18213, 768)"
      ]
     },
     "execution_count": 7,
     "metadata": {},
     "output_type": "execute_result"
    }
   ],
   "source": [
    "vectors.shape"
   ]
  },
  {
   "cell_type": "markdown",
   "metadata": {},
   "source": [
    "## Step4 创建索引"
   ]
  },
  {
   "cell_type": "code",
   "execution_count": 8,
   "metadata": {},
   "outputs": [
    {
     "data": {
      "text/plain": [
       "<faiss.swigfaiss.IndexFlatIP; proxy of <Swig Object of type 'faiss::IndexFlatIP *' at 0x0000013819681AA0> >"
      ]
     },
     "execution_count": 8,
     "metadata": {},
     "output_type": "execute_result"
    }
   ],
   "source": [
    "import faiss\n",
    "\n",
    "index = faiss.IndexFlatIP(768)\n",
    "faiss.normalize_L2(vectors)\n",
    "index.add(vectors)\n",
    "index\n"
   ]
  },
  {
   "cell_type": "markdown",
   "metadata": {},
   "source": [
    "## Step5 对问题进行向量编码"
   ]
  },
  {
   "cell_type": "code",
   "execution_count": 14,
   "metadata": {},
   "outputs": [],
   "source": [
    "\n",
    "def questions_vector(data):\n",
    "    inputs = tokenizer(data, return_tensors='pt', padding=True, max_length=128, truncation=True)\n",
    "    inputs = {k: v.to(dual_model.device)  for k,v in inputs.items()}\n",
    "    vector = dual_model.bert(**inputs)[1]\n",
    "    q_vector = vector.cpu().detach().numpy()\n",
    "    return q_vector\n",
    "\n",
    "question = \"寻衅滋事\"\n",
    "__question_vector = questions_vector(question)"
   ]
  },
  {
   "cell_type": "markdown",
   "metadata": {},
   "source": [
    "## Step6 向量匹配(召回)"
   ]
  },
  {
   "cell_type": "code",
   "execution_count": 16,
   "metadata": {},
   "outputs": [
    {
     "data": {
      "text/plain": [
       "array([['在法律中定金与订金的区别订金和定金哪个受',\n",
       "        '“定金”是指当事人约定由一方向对方给付的，作为债权担保的一定数额的货币，它属于一种法律上的担保方式，目的在于促使债务人履行债务，保障债权人的债权得以实现。签合同时，对定金必需以书面形式进行约定，同时还应约定定金的数额和交付期限。给付定金一方如果不履行债务，无权要求另一方返还定金；接受定金的一方如果不履行债务，需向另一方双倍返还债务。债务人履行债务后，依照约定，定金应抵作价款或者收回。而“订金”目前我国法律没有明确规定，它不具备定金所具有的担保性质，可视为“预付款”，当合同不能履行时，除不可抗力外，应根据双方当事人的过错承担违约责任。'],\n",
       "       ['盗窃罪的犯罪客体是什么，盗窃罪的犯罪主体',\n",
       "        '盗窃罪的客体要件本罪侵犯的客体是公私财物的所有权。侵犯的对象，是国家、集体或个人的财物，一般是指动产而言，但不动产上之附着物，可与不动产分离的，例如，田地上的农作物，山上的树木、建筑物上之门窗等，也可以成为本罪的对象。另外，能源如电力、煤气也可成为本罪的对象。盗窃罪侵犯的客体是公私财物的所有权。所有权包括占有、使用、收益、处分等权能。这里的所有权一般指合法的所有权，但有时也有例外情况。根据《最高人民法院关于审理盗窃案件具体应用法律若干问题的解释》(以下简称《解释》)的规定：“盗窃违禁品，按盗窃罪处理的，不计数额，根据情节轻重量刑。盗窃违禁品或犯罪分子不法占有的财物也构成盗窃罪。”'],\n",
       "       ['非法微整形机构构成非法经营罪吗',\n",
       "        '符合要件就有可能。非法经营罪，是指未经许可经营专营、专卖物品或其他限制买卖的物品，买卖进出口许可证、进出口原产地证明以及其他法律、行政法规规定的经营许可证或者批准文件，以及从事其他非法经营活动，扰乱市场秩序，情节严重的行为。'],\n",
       "       ...,\n",
       "       ['老赖欠钱不还，可以用坐牢抵债吗',\n",
       "        '肯定是要还的，判刑坐牢是针对他不还钱行为的惩罚，不是说坐牢抵债的，但如果一个人真的没钱你也没办法，只能看好对方的经济状况，一旦有钱的就得立马采取措施'],\n",
       "       ['我男朋友把我姐夫的车给偷了，我姐夫报案了，一开始我不知道他偷车了我知道后帮他逃跑我有罪吗',\n",
       "        '朋友。你男朋友把我姐夫的车给偷了，我姐夫报案了，一开始你不知道他偷车，我知道了后帮助你男朋友逃跑你有罪吗？朋友。你男朋友偷车的行为已经构成偷车罪和偷窃罪范畴。如果追究刑事责任。你帮助你男朋友逃跑这种行为也已经构成了刑事责任属于包庇罪范畴。你也会判刑的（是实实在在的判刑。就是实刑）网页链接这是包庇罪详细。你真傻啊。你男朋友偷车了你还帮他逃跑。我认为你男朋友肯定有过偷盗前科。你怎么不了解一下你男朋友啊？真傻。我是干公安的。我知道这些。'],\n",
       "       ['个人与个人纠纷怎么处理', '可以进行协商，协商不成可以提起诉讼。']], dtype=object)"
      ]
     },
     "execution_count": 16,
     "metadata": {},
     "output_type": "execute_result"
    }
   ],
   "source": [
    "data.values"
   ]
  },
  {
   "cell_type": "code",
   "execution_count": null,
   "metadata": {},
   "outputs": [],
   "source": [
    "faiss.normalize_L2(__question_vector)\n",
    "scores, indexes = index.search(__question_vector, 10)\n"
   ]
  },
  {
   "cell_type": "code",
   "execution_count": 19,
   "metadata": {},
   "outputs": [
    {
     "data": {
      "text/plain": [
       "array([ 9828,  7489,  4416,  9819,  1672,  2273,   539,   230,  8508,\n",
       "       10007], dtype=int64)"
      ]
     },
     "execution_count": 19,
     "metadata": {},
     "output_type": "execute_result"
    }
   ],
   "source": [
    "indexes[0]"
   ]
  },
  {
   "cell_type": "code",
   "execution_count": 21,
   "metadata": {},
   "outputs": [],
   "source": [
    "topk_result = data.values[indexes[0].tolist()]"
   ]
  },
  {
   "cell_type": "code",
   "execution_count": 27,
   "metadata": {},
   "outputs": [
    {
     "data": {
      "text/plain": [
       "array(['交通事故逃逸', '恶意诋毁他人', '寻衅滋事没有伤检得到对方的谅解', '交通事故肇事逃逸', '黑心高利贷优亿金融',\n",
       "       '救助讨薪', '涉嫌寻衅滋事', '轻伤一级不赔钱判几年', '飞达暴力催收', '摩托车酒驾法律'], dtype=object)"
      ]
     },
     "execution_count": 27,
     "metadata": {},
     "output_type": "execute_result"
    }
   ],
   "source": [
    "topk_result.shape\n",
    "topk_result[:,0]"
   ]
  },
  {
   "cell_type": "markdown",
   "metadata": {},
   "source": [
    "## Step7 加载交互模型"
   ]
  },
  {
   "cell_type": "code",
   "execution_count": null,
   "metadata": {},
   "outputs": [],
   "source": [
    "from transformers import BertForSequenceClassification\n",
    "\n",
    "# 需要完成前置模型训练\n",
    "corss_model = BertForSequenceClassification.from_pretrained(\"./cross_model/checkpoint-500/\")\n",
    "corss_model = corss_model.cuda()\n",
    "corss_model.eval()\n",
    "print(\"模型加载成功！\")"
   ]
  },
  {
   "cell_type": "markdown",
   "metadata": {},
   "source": [
    "## Step8 最终预测(排序)"
   ]
  },
  {
   "cell_type": "code",
   "execution_count": null,
   "metadata": {},
   "outputs": [
    {
     "data": {
      "text/plain": [
       "['交通事故逃逸',\n",
       " '恶意诋毁他人',\n",
       " '寻衅滋事没有伤检得到对方的谅解',\n",
       " '交通事故肇事逃逸',\n",
       " '黑心高利贷优亿金融',\n",
       " '救助讨薪',\n",
       " '涉嫌寻衅滋事',\n",
       " '轻伤一级不赔钱判几年',\n",
       " '飞达暴力催收',\n",
       " '摩托车酒驾法律']"
      ]
     },
     "execution_count": 28,
     "metadata": {},
     "output_type": "execute_result"
    }
   ],
   "source": [
    "canidate = topk_result[:, 0].tolist()\n",
    "ques = [question] * len(canidate)\n",
    "inputs = tokenizer(ques, canidate, return_tensors=\"pt\", padding=True, max_length=128, truncation=True)\n",
    "inputs = {k: v.to(corss_model.device) for k, v in inputs.items()}\n",
    "with torch.inference_mode():\n",
    "    logits = corss_model(**inputs).logits.squeeze()\n",
    "    result = torch.argmax(logits, dim=-1)\n",
    "result"
   ]
  },
  {
   "cell_type": "code",
   "execution_count": null,
   "metadata": {},
   "outputs": [],
   "source": [
    "canidate_answer = topk_result[:, 1].tolist()\n",
    "match_quesiton = canidate[result.item()]\n",
    "final_answer = canidate_answer[result.item()]\n",
    "match_quesiton, final_answer"
   ]
  }
 ],
 "metadata": {
  "kernelspec": {
   "display_name": "py311_langchainchat",
   "language": "python",
   "name": "python3"
  },
  "language_info": {
   "codemirror_mode": {
    "name": "ipython",
    "version": 3
   },
   "file_extension": ".py",
   "mimetype": "text/x-python",
   "name": "python",
   "nbconvert_exporter": "python",
   "pygments_lexer": "ipython3",
   "version": "3.11.8"
  },
  "orig_nbformat": 4
 },
 "nbformat": 4,
 "nbformat_minor": 2
}
