{
 "cells": [
  {
   "cell_type": "markdown",
   "metadata": {},
   "source": [
    "# Lora 实战"
   ]
  },
  {
   "cell_type": "markdown",
   "metadata": {},
   "source": [
    "## Step1 导入相关包"
   ]
  },
  {
   "cell_type": "code",
   "execution_count": 1,
   "metadata": {},
   "outputs": [
    {
     "name": "stderr",
     "output_type": "stream",
     "text": [
      "d:\\anaconda3\\envs\\py39\\lib\\site-packages\\tqdm\\auto.py:21: TqdmWarning: IProgress not found. Please update jupyter and ipywidgets. See https://ipywidgets.readthedocs.io/en/stable/user_install.html\n",
      "  from .autonotebook import tqdm as notebook_tqdm\n"
     ]
    }
   ],
   "source": [
    "from datasets import Dataset\n",
    "from transformers import AutoTokenizer, AutoModelForCausalLM, DataCollatorForSeq2Seq, TrainingArguments, Trainer"
   ]
  },
  {
   "cell_type": "markdown",
   "metadata": {},
   "source": [
    "## Step2 加载数据集"
   ]
  },
  {
   "cell_type": "code",
   "execution_count": 2,
   "metadata": {},
   "outputs": [
    {
     "data": {
      "text/plain": [
       "Dataset({\n",
       "    features: ['output', 'input', 'instruction'],\n",
       "    num_rows: 26858\n",
       "})"
      ]
     },
     "execution_count": 2,
     "metadata": {},
     "output_type": "execute_result"
    }
   ],
   "source": [
    "ds = Dataset.load_from_disk(\"./data/alpaca_data_zh/\")\n",
    "ds"
   ]
  },
  {
   "cell_type": "code",
   "execution_count": 3,
   "metadata": {},
   "outputs": [
    {
     "data": {
      "text/plain": [
       "{'output': ['以下是保持健康的三个提示：\\n\\n1. 保持身体活动。每天做适当的身体运动，如散步、跑步或游泳，能促进心血管健康，增强肌肉力量，并有助于减少体重。\\n\\n2. 均衡饮食。每天食用新鲜的蔬菜、水果、全谷物和脂肪含量低的蛋白质食物，避免高糖、高脂肪和加工食品，以保持健康的饮食习惯。\\n\\n3. 睡眠充足。睡眠对人体健康至关重要，成年人每天应保证 7-8 小时的睡眠。良好的睡眠有助于减轻压力，促进身体恢复，并提高注意力和记忆力。',\n",
       "  '4/16等于1/4是因为我们可以约分分子分母都除以他们的最大公约数4，得到（4÷4）/ (16÷4）=1/4。分数的约分是用分子和分母除以相同的非零整数，来表示分数的一个相同的值，这因为分数实际上表示了分子除以分母，所以即使两个数同时除以同一个非零整数，分数的值也不会改变。所以4/16 和1/4是两种不同的书写形式，但它们的值相等。',\n",
       "  '朱利叶斯·凯撒，又称尤利乌斯·恺撒（Julius Caesar）是古罗马的政治家、军事家和作家。他于公元前44年3月15日被刺杀。 \\n\\n根据历史记载，当时罗马元老院里一些参议员联合起来策划了对恺撒的刺杀行动，因为他们担心恺撒的统治将给罗马共和制带来威胁。在公元前44年3月15日（又称“3月的艾达之日”），恺撒去参加元老院会议时，被一群参议员包围并被攻击致死。据记载，他身中23刀，其中一刀最终致命。'],\n",
       " 'input': ['', '输入：4/16', ''],\n",
       " 'instruction': ['保持健康的三个提示。', '解释为什么以下分数等同于1/4', '朱利叶斯·凯撒是如何死亡的？']}"
      ]
     },
     "execution_count": 3,
     "metadata": {},
     "output_type": "execute_result"
    }
   ],
   "source": [
    "ds[:3]"
   ]
  },
  {
   "cell_type": "markdown",
   "metadata": {},
   "source": [
    "## Step3 数据集预处理"
   ]
  },
  {
   "cell_type": "code",
   "execution_count": 4,
   "metadata": {},
   "outputs": [
    {
     "data": {
      "text/plain": [
       "BloomTokenizerFast(name_or_path='D:/pretrained_model/models--Langboat--bloom-1b4-zh', vocab_size=46145, model_max_length=1000000000000000019884624838656, is_fast=True, padding_side='left', truncation_side='right', special_tokens={'bos_token': '<s>', 'eos_token': '</s>', 'unk_token': '<unk>', 'pad_token': '<pad>'}, clean_up_tokenization_spaces=False)"
      ]
     },
     "execution_count": 4,
     "metadata": {},
     "output_type": "execute_result"
    }
   ],
   "source": [
    "tokenizer = AutoTokenizer.from_pretrained(\"D:/pretrained_model/models--Langboat--bloom-1b4-zh\")\n",
    "tokenizer"
   ]
  },
  {
   "cell_type": "code",
   "execution_count": 5,
   "metadata": {},
   "outputs": [],
   "source": [
    "def process_func(example):\n",
    "    MAX_LENGTH = 256\n",
    "    input_ids, attention_mask, labels = [], [], []\n",
    "    instruction = tokenizer(\"\\n\".join([\"Human: \" + example[\"instruction\"], example[\"input\"]]).strip() + \"\\n\\nAssistant: \")\n",
    "    response = tokenizer(example[\"output\"] + tokenizer.eos_token)\n",
    "    input_ids = instruction[\"input_ids\"] + response[\"input_ids\"]\n",
    "    attention_mask = instruction[\"attention_mask\"] + response[\"attention_mask\"]\n",
    "    labels = [-100] * len(instruction[\"input_ids\"]) + response[\"input_ids\"]\n",
    "    if len(input_ids) > MAX_LENGTH:\n",
    "        input_ids = input_ids[:MAX_LENGTH]\n",
    "        attention_mask = attention_mask[:MAX_LENGTH]\n",
    "        labels = labels[:MAX_LENGTH]\n",
    "    return {\n",
    "        \"input_ids\": input_ids,\n",
    "        \"attention_mask\": attention_mask,\n",
    "        \"labels\": labels\n",
    "    }"
   ]
  },
  {
   "cell_type": "code",
   "execution_count": 6,
   "metadata": {},
   "outputs": [
    {
     "data": {
      "text/plain": [
       "Dataset({\n",
       "    features: ['input_ids', 'attention_mask', 'labels'],\n",
       "    num_rows: 26858\n",
       "})"
      ]
     },
     "execution_count": 6,
     "metadata": {},
     "output_type": "execute_result"
    }
   ],
   "source": [
    "tokenized_ds = ds.map(process_func, remove_columns=ds.column_names)\n",
    "tokenized_ds"
   ]
  },
  {
   "cell_type": "code",
   "execution_count": 7,
   "metadata": {},
   "outputs": [
    {
     "data": {
      "text/plain": [
       "'Human: 解释为什么以下分数等同于1/4\\n输入：4/16\\n\\nAssistant: 4/16等于1/4是因为我们可以约分分子分母都除以他们的最大公约数4，得到（4÷4）/ (16÷4）=1/4。分数的约分是用分子和分母除以相同的非零整数，来表示分数的一个相同的值，这因为分数实际上表示了分子除以分母，所以即使两个数同时除以同一个非零整数，分数的值也不会改变。所以4/16 和1/4是两种不同的书写形式，但它们的值相等。</s>'"
      ]
     },
     "execution_count": 7,
     "metadata": {},
     "output_type": "execute_result"
    }
   ],
   "source": [
    "tokenizer.decode(tokenized_ds[1][\"input_ids\"])"
   ]
  },
  {
   "cell_type": "code",
   "execution_count": 8,
   "metadata": {},
   "outputs": [
    {
     "data": {
      "text/plain": [
       "'4/16等于1/4是因为我们可以约分分子分母都除以他们的最大公约数4，得到（4÷4）/ (16÷4）=1/4。分数的约分是用分子和分母除以相同的非零整数，来表示分数的一个相同的值，这因为分数实际上表示了分子除以分母，所以即使两个数同时除以同一个非零整数，分数的值也不会改变。所以4/16 和1/4是两种不同的书写形式，但它们的值相等。</s>'"
      ]
     },
     "execution_count": 8,
     "metadata": {},
     "output_type": "execute_result"
    }
   ],
   "source": [
    "tokenizer.decode(list(filter(lambda x: x != -100, tokenized_ds[1][\"labels\"])))"
   ]
  },
  {
   "cell_type": "markdown",
   "metadata": {},
   "source": [
    "## Step4 创建模型"
   ]
  },
  {
   "cell_type": "code",
   "execution_count": 9,
   "metadata": {},
   "outputs": [],
   "source": [
    "model = AutoModelForCausalLM.from_pretrained(\"D:/pretrained_model/models--Langboat--bloom-1b4-zh\")"
   ]
  },
  {
   "cell_type": "code",
   "execution_count": 10,
   "metadata": {},
   "outputs": [
    {
     "name": "stdout",
     "output_type": "stream",
     "text": [
      "transformer.word_embeddings.weight\n",
      "transformer.word_embeddings_layernorm.weight\n",
      "transformer.word_embeddings_layernorm.bias\n",
      "transformer.h.0.input_layernorm.weight\n",
      "transformer.h.0.input_layernorm.bias\n",
      "transformer.h.0.self_attention.query_key_value.weight\n",
      "transformer.h.0.self_attention.query_key_value.bias\n",
      "transformer.h.0.self_attention.dense.weight\n",
      "transformer.h.0.self_attention.dense.bias\n",
      "transformer.h.0.post_attention_layernorm.weight\n",
      "transformer.h.0.post_attention_layernorm.bias\n",
      "transformer.h.0.mlp.dense_h_to_4h.weight\n",
      "transformer.h.0.mlp.dense_h_to_4h.bias\n",
      "transformer.h.0.mlp.dense_4h_to_h.weight\n",
      "transformer.h.0.mlp.dense_4h_to_h.bias\n",
      "transformer.h.1.input_layernorm.weight\n",
      "transformer.h.1.input_layernorm.bias\n",
      "transformer.h.1.self_attention.query_key_value.weight\n",
      "transformer.h.1.self_attention.query_key_value.bias\n",
      "transformer.h.1.self_attention.dense.weight\n",
      "transformer.h.1.self_attention.dense.bias\n",
      "transformer.h.1.post_attention_layernorm.weight\n",
      "transformer.h.1.post_attention_layernorm.bias\n",
      "transformer.h.1.mlp.dense_h_to_4h.weight\n",
      "transformer.h.1.mlp.dense_h_to_4h.bias\n",
      "transformer.h.1.mlp.dense_4h_to_h.weight\n",
      "transformer.h.1.mlp.dense_4h_to_h.bias\n",
      "transformer.h.2.input_layernorm.weight\n",
      "transformer.h.2.input_layernorm.bias\n",
      "transformer.h.2.self_attention.query_key_value.weight\n",
      "transformer.h.2.self_attention.query_key_value.bias\n",
      "transformer.h.2.self_attention.dense.weight\n",
      "transformer.h.2.self_attention.dense.bias\n",
      "transformer.h.2.post_attention_layernorm.weight\n",
      "transformer.h.2.post_attention_layernorm.bias\n",
      "transformer.h.2.mlp.dense_h_to_4h.weight\n",
      "transformer.h.2.mlp.dense_h_to_4h.bias\n",
      "transformer.h.2.mlp.dense_4h_to_h.weight\n",
      "transformer.h.2.mlp.dense_4h_to_h.bias\n",
      "transformer.h.3.input_layernorm.weight\n",
      "transformer.h.3.input_layernorm.bias\n",
      "transformer.h.3.self_attention.query_key_value.weight\n",
      "transformer.h.3.self_attention.query_key_value.bias\n",
      "transformer.h.3.self_attention.dense.weight\n",
      "transformer.h.3.self_attention.dense.bias\n",
      "transformer.h.3.post_attention_layernorm.weight\n",
      "transformer.h.3.post_attention_layernorm.bias\n",
      "transformer.h.3.mlp.dense_h_to_4h.weight\n",
      "transformer.h.3.mlp.dense_h_to_4h.bias\n",
      "transformer.h.3.mlp.dense_4h_to_h.weight\n",
      "transformer.h.3.mlp.dense_4h_to_h.bias\n",
      "transformer.h.4.input_layernorm.weight\n",
      "transformer.h.4.input_layernorm.bias\n",
      "transformer.h.4.self_attention.query_key_value.weight\n",
      "transformer.h.4.self_attention.query_key_value.bias\n",
      "transformer.h.4.self_attention.dense.weight\n",
      "transformer.h.4.self_attention.dense.bias\n",
      "transformer.h.4.post_attention_layernorm.weight\n",
      "transformer.h.4.post_attention_layernorm.bias\n",
      "transformer.h.4.mlp.dense_h_to_4h.weight\n",
      "transformer.h.4.mlp.dense_h_to_4h.bias\n",
      "transformer.h.4.mlp.dense_4h_to_h.weight\n",
      "transformer.h.4.mlp.dense_4h_to_h.bias\n",
      "transformer.h.5.input_layernorm.weight\n",
      "transformer.h.5.input_layernorm.bias\n",
      "transformer.h.5.self_attention.query_key_value.weight\n",
      "transformer.h.5.self_attention.query_key_value.bias\n",
      "transformer.h.5.self_attention.dense.weight\n",
      "transformer.h.5.self_attention.dense.bias\n",
      "transformer.h.5.post_attention_layernorm.weight\n",
      "transformer.h.5.post_attention_layernorm.bias\n",
      "transformer.h.5.mlp.dense_h_to_4h.weight\n",
      "transformer.h.5.mlp.dense_h_to_4h.bias\n",
      "transformer.h.5.mlp.dense_4h_to_h.weight\n",
      "transformer.h.5.mlp.dense_4h_to_h.bias\n",
      "transformer.h.6.input_layernorm.weight\n",
      "transformer.h.6.input_layernorm.bias\n",
      "transformer.h.6.self_attention.query_key_value.weight\n",
      "transformer.h.6.self_attention.query_key_value.bias\n",
      "transformer.h.6.self_attention.dense.weight\n",
      "transformer.h.6.self_attention.dense.bias\n",
      "transformer.h.6.post_attention_layernorm.weight\n",
      "transformer.h.6.post_attention_layernorm.bias\n",
      "transformer.h.6.mlp.dense_h_to_4h.weight\n",
      "transformer.h.6.mlp.dense_h_to_4h.bias\n",
      "transformer.h.6.mlp.dense_4h_to_h.weight\n",
      "transformer.h.6.mlp.dense_4h_to_h.bias\n",
      "transformer.h.7.input_layernorm.weight\n",
      "transformer.h.7.input_layernorm.bias\n",
      "transformer.h.7.self_attention.query_key_value.weight\n",
      "transformer.h.7.self_attention.query_key_value.bias\n",
      "transformer.h.7.self_attention.dense.weight\n",
      "transformer.h.7.self_attention.dense.bias\n",
      "transformer.h.7.post_attention_layernorm.weight\n",
      "transformer.h.7.post_attention_layernorm.bias\n",
      "transformer.h.7.mlp.dense_h_to_4h.weight\n",
      "transformer.h.7.mlp.dense_h_to_4h.bias\n",
      "transformer.h.7.mlp.dense_4h_to_h.weight\n",
      "transformer.h.7.mlp.dense_4h_to_h.bias\n",
      "transformer.h.8.input_layernorm.weight\n",
      "transformer.h.8.input_layernorm.bias\n",
      "transformer.h.8.self_attention.query_key_value.weight\n",
      "transformer.h.8.self_attention.query_key_value.bias\n",
      "transformer.h.8.self_attention.dense.weight\n",
      "transformer.h.8.self_attention.dense.bias\n",
      "transformer.h.8.post_attention_layernorm.weight\n",
      "transformer.h.8.post_attention_layernorm.bias\n",
      "transformer.h.8.mlp.dense_h_to_4h.weight\n",
      "transformer.h.8.mlp.dense_h_to_4h.bias\n",
      "transformer.h.8.mlp.dense_4h_to_h.weight\n",
      "transformer.h.8.mlp.dense_4h_to_h.bias\n",
      "transformer.h.9.input_layernorm.weight\n",
      "transformer.h.9.input_layernorm.bias\n",
      "transformer.h.9.self_attention.query_key_value.weight\n",
      "transformer.h.9.self_attention.query_key_value.bias\n",
      "transformer.h.9.self_attention.dense.weight\n",
      "transformer.h.9.self_attention.dense.bias\n",
      "transformer.h.9.post_attention_layernorm.weight\n",
      "transformer.h.9.post_attention_layernorm.bias\n",
      "transformer.h.9.mlp.dense_h_to_4h.weight\n",
      "transformer.h.9.mlp.dense_h_to_4h.bias\n",
      "transformer.h.9.mlp.dense_4h_to_h.weight\n",
      "transformer.h.9.mlp.dense_4h_to_h.bias\n",
      "transformer.h.10.input_layernorm.weight\n",
      "transformer.h.10.input_layernorm.bias\n",
      "transformer.h.10.self_attention.query_key_value.weight\n",
      "transformer.h.10.self_attention.query_key_value.bias\n",
      "transformer.h.10.self_attention.dense.weight\n",
      "transformer.h.10.self_attention.dense.bias\n",
      "transformer.h.10.post_attention_layernorm.weight\n",
      "transformer.h.10.post_attention_layernorm.bias\n",
      "transformer.h.10.mlp.dense_h_to_4h.weight\n",
      "transformer.h.10.mlp.dense_h_to_4h.bias\n",
      "transformer.h.10.mlp.dense_4h_to_h.weight\n",
      "transformer.h.10.mlp.dense_4h_to_h.bias\n",
      "transformer.h.11.input_layernorm.weight\n",
      "transformer.h.11.input_layernorm.bias\n",
      "transformer.h.11.self_attention.query_key_value.weight\n",
      "transformer.h.11.self_attention.query_key_value.bias\n",
      "transformer.h.11.self_attention.dense.weight\n",
      "transformer.h.11.self_attention.dense.bias\n",
      "transformer.h.11.post_attention_layernorm.weight\n",
      "transformer.h.11.post_attention_layernorm.bias\n",
      "transformer.h.11.mlp.dense_h_to_4h.weight\n",
      "transformer.h.11.mlp.dense_h_to_4h.bias\n",
      "transformer.h.11.mlp.dense_4h_to_h.weight\n",
      "transformer.h.11.mlp.dense_4h_to_h.bias\n",
      "transformer.h.12.input_layernorm.weight\n",
      "transformer.h.12.input_layernorm.bias\n",
      "transformer.h.12.self_attention.query_key_value.weight\n",
      "transformer.h.12.self_attention.query_key_value.bias\n",
      "transformer.h.12.self_attention.dense.weight\n",
      "transformer.h.12.self_attention.dense.bias\n",
      "transformer.h.12.post_attention_layernorm.weight\n",
      "transformer.h.12.post_attention_layernorm.bias\n",
      "transformer.h.12.mlp.dense_h_to_4h.weight\n",
      "transformer.h.12.mlp.dense_h_to_4h.bias\n",
      "transformer.h.12.mlp.dense_4h_to_h.weight\n",
      "transformer.h.12.mlp.dense_4h_to_h.bias\n",
      "transformer.h.13.input_layernorm.weight\n",
      "transformer.h.13.input_layernorm.bias\n",
      "transformer.h.13.self_attention.query_key_value.weight\n",
      "transformer.h.13.self_attention.query_key_value.bias\n",
      "transformer.h.13.self_attention.dense.weight\n",
      "transformer.h.13.self_attention.dense.bias\n",
      "transformer.h.13.post_attention_layernorm.weight\n",
      "transformer.h.13.post_attention_layernorm.bias\n",
      "transformer.h.13.mlp.dense_h_to_4h.weight\n",
      "transformer.h.13.mlp.dense_h_to_4h.bias\n",
      "transformer.h.13.mlp.dense_4h_to_h.weight\n",
      "transformer.h.13.mlp.dense_4h_to_h.bias\n",
      "transformer.h.14.input_layernorm.weight\n",
      "transformer.h.14.input_layernorm.bias\n",
      "transformer.h.14.self_attention.query_key_value.weight\n",
      "transformer.h.14.self_attention.query_key_value.bias\n",
      "transformer.h.14.self_attention.dense.weight\n",
      "transformer.h.14.self_attention.dense.bias\n",
      "transformer.h.14.post_attention_layernorm.weight\n",
      "transformer.h.14.post_attention_layernorm.bias\n",
      "transformer.h.14.mlp.dense_h_to_4h.weight\n",
      "transformer.h.14.mlp.dense_h_to_4h.bias\n",
      "transformer.h.14.mlp.dense_4h_to_h.weight\n",
      "transformer.h.14.mlp.dense_4h_to_h.bias\n",
      "transformer.h.15.input_layernorm.weight\n",
      "transformer.h.15.input_layernorm.bias\n",
      "transformer.h.15.self_attention.query_key_value.weight\n",
      "transformer.h.15.self_attention.query_key_value.bias\n",
      "transformer.h.15.self_attention.dense.weight\n",
      "transformer.h.15.self_attention.dense.bias\n",
      "transformer.h.15.post_attention_layernorm.weight\n",
      "transformer.h.15.post_attention_layernorm.bias\n",
      "transformer.h.15.mlp.dense_h_to_4h.weight\n",
      "transformer.h.15.mlp.dense_h_to_4h.bias\n",
      "transformer.h.15.mlp.dense_4h_to_h.weight\n",
      "transformer.h.15.mlp.dense_4h_to_h.bias\n",
      "transformer.h.16.input_layernorm.weight\n",
      "transformer.h.16.input_layernorm.bias\n",
      "transformer.h.16.self_attention.query_key_value.weight\n",
      "transformer.h.16.self_attention.query_key_value.bias\n",
      "transformer.h.16.self_attention.dense.weight\n",
      "transformer.h.16.self_attention.dense.bias\n",
      "transformer.h.16.post_attention_layernorm.weight\n",
      "transformer.h.16.post_attention_layernorm.bias\n",
      "transformer.h.16.mlp.dense_h_to_4h.weight\n",
      "transformer.h.16.mlp.dense_h_to_4h.bias\n",
      "transformer.h.16.mlp.dense_4h_to_h.weight\n",
      "transformer.h.16.mlp.dense_4h_to_h.bias\n",
      "transformer.h.17.input_layernorm.weight\n",
      "transformer.h.17.input_layernorm.bias\n",
      "transformer.h.17.self_attention.query_key_value.weight\n",
      "transformer.h.17.self_attention.query_key_value.bias\n",
      "transformer.h.17.self_attention.dense.weight\n",
      "transformer.h.17.self_attention.dense.bias\n",
      "transformer.h.17.post_attention_layernorm.weight\n",
      "transformer.h.17.post_attention_layernorm.bias\n",
      "transformer.h.17.mlp.dense_h_to_4h.weight\n",
      "transformer.h.17.mlp.dense_h_to_4h.bias\n",
      "transformer.h.17.mlp.dense_4h_to_h.weight\n",
      "transformer.h.17.mlp.dense_4h_to_h.bias\n",
      "transformer.h.18.input_layernorm.weight\n",
      "transformer.h.18.input_layernorm.bias\n",
      "transformer.h.18.self_attention.query_key_value.weight\n",
      "transformer.h.18.self_attention.query_key_value.bias\n",
      "transformer.h.18.self_attention.dense.weight\n",
      "transformer.h.18.self_attention.dense.bias\n",
      "transformer.h.18.post_attention_layernorm.weight\n",
      "transformer.h.18.post_attention_layernorm.bias\n",
      "transformer.h.18.mlp.dense_h_to_4h.weight\n",
      "transformer.h.18.mlp.dense_h_to_4h.bias\n",
      "transformer.h.18.mlp.dense_4h_to_h.weight\n",
      "transformer.h.18.mlp.dense_4h_to_h.bias\n",
      "transformer.h.19.input_layernorm.weight\n",
      "transformer.h.19.input_layernorm.bias\n",
      "transformer.h.19.self_attention.query_key_value.weight\n",
      "transformer.h.19.self_attention.query_key_value.bias\n",
      "transformer.h.19.self_attention.dense.weight\n",
      "transformer.h.19.self_attention.dense.bias\n",
      "transformer.h.19.post_attention_layernorm.weight\n",
      "transformer.h.19.post_attention_layernorm.bias\n",
      "transformer.h.19.mlp.dense_h_to_4h.weight\n",
      "transformer.h.19.mlp.dense_h_to_4h.bias\n",
      "transformer.h.19.mlp.dense_4h_to_h.weight\n",
      "transformer.h.19.mlp.dense_4h_to_h.bias\n",
      "transformer.h.20.input_layernorm.weight\n",
      "transformer.h.20.input_layernorm.bias\n",
      "transformer.h.20.self_attention.query_key_value.weight\n",
      "transformer.h.20.self_attention.query_key_value.bias\n",
      "transformer.h.20.self_attention.dense.weight\n",
      "transformer.h.20.self_attention.dense.bias\n",
      "transformer.h.20.post_attention_layernorm.weight\n",
      "transformer.h.20.post_attention_layernorm.bias\n",
      "transformer.h.20.mlp.dense_h_to_4h.weight\n",
      "transformer.h.20.mlp.dense_h_to_4h.bias\n",
      "transformer.h.20.mlp.dense_4h_to_h.weight\n",
      "transformer.h.20.mlp.dense_4h_to_h.bias\n",
      "transformer.h.21.input_layernorm.weight\n",
      "transformer.h.21.input_layernorm.bias\n",
      "transformer.h.21.self_attention.query_key_value.weight\n",
      "transformer.h.21.self_attention.query_key_value.bias\n",
      "transformer.h.21.self_attention.dense.weight\n",
      "transformer.h.21.self_attention.dense.bias\n",
      "transformer.h.21.post_attention_layernorm.weight\n",
      "transformer.h.21.post_attention_layernorm.bias\n",
      "transformer.h.21.mlp.dense_h_to_4h.weight\n",
      "transformer.h.21.mlp.dense_h_to_4h.bias\n",
      "transformer.h.21.mlp.dense_4h_to_h.weight\n",
      "transformer.h.21.mlp.dense_4h_to_h.bias\n",
      "transformer.h.22.input_layernorm.weight\n",
      "transformer.h.22.input_layernorm.bias\n",
      "transformer.h.22.self_attention.query_key_value.weight\n",
      "transformer.h.22.self_attention.query_key_value.bias\n",
      "transformer.h.22.self_attention.dense.weight\n",
      "transformer.h.22.self_attention.dense.bias\n",
      "transformer.h.22.post_attention_layernorm.weight\n",
      "transformer.h.22.post_attention_layernorm.bias\n",
      "transformer.h.22.mlp.dense_h_to_4h.weight\n",
      "transformer.h.22.mlp.dense_h_to_4h.bias\n",
      "transformer.h.22.mlp.dense_4h_to_h.weight\n",
      "transformer.h.22.mlp.dense_4h_to_h.bias\n",
      "transformer.h.23.input_layernorm.weight\n",
      "transformer.h.23.input_layernorm.bias\n",
      "transformer.h.23.self_attention.query_key_value.weight\n",
      "transformer.h.23.self_attention.query_key_value.bias\n",
      "transformer.h.23.self_attention.dense.weight\n",
      "transformer.h.23.self_attention.dense.bias\n",
      "transformer.h.23.post_attention_layernorm.weight\n",
      "transformer.h.23.post_attention_layernorm.bias\n",
      "transformer.h.23.mlp.dense_h_to_4h.weight\n",
      "transformer.h.23.mlp.dense_h_to_4h.bias\n",
      "transformer.h.23.mlp.dense_4h_to_h.weight\n",
      "transformer.h.23.mlp.dense_4h_to_h.bias\n",
      "transformer.ln_f.weight\n",
      "transformer.ln_f.bias\n"
     ]
    }
   ],
   "source": [
    "for name, parameter in model.named_parameters():\n",
    "    print(name)"
   ]
  },
  {
   "cell_type": "markdown",
   "metadata": {},
   "source": [
    "## Lora"
   ]
  },
  {
   "cell_type": "markdown",
   "metadata": {},
   "source": [
    "### PEFT Step1 配置文件"
   ]
  },
  {
   "cell_type": "code",
   "execution_count": 11,
   "metadata": {},
   "outputs": [
    {
     "name": "stdout",
     "output_type": "stream",
     "text": [
      "LoraConfig(peft_type=<PeftType.LORA: 'LORA'>, auto_mapping=None, base_model_name_or_path=None, revision=None, task_type=<TaskType.CAUSAL_LM: 'CAUSAL_LM'>, inference_mode=False, r=8, target_modules='.*\\\\.1.*query_key_value', lora_alpha=8, lora_dropout=0.0, fan_in_fan_out=False, bias='none', use_rslora=False, modules_to_save=['word_embeddings'], init_lora_weights=True, layers_to_transform=None, layers_pattern=None, rank_pattern={}, alpha_pattern={}, megatron_config=None, megatron_core='megatron.core', loftq_config={}, use_dora=False, layer_replication=None)\n"
     ]
    }
   ],
   "source": [
    "from peft import LoraConfig, TaskType, get_peft_model\n",
    "\n",
    "\n",
    "# 可以使用qkv来指定，也可以用正则表达式进行指定\n",
    "# ['q', 'v'] or '.*decoder.*(SelfAttention|EncDecAttention).*(q|v)$'.\"\n",
    "# config = LoraConfig(task_type=TaskType.CAUSAL_LM, target_modules=\".*\\.1.*query_key_value\", modules_to_save=[\"word_embeddings\"])\n",
    "\n",
    "# config = LoraConfig(task_type=TaskType.CAUSAL_LM)\n",
    "config = LoraConfig(task_type=TaskType.CAUSAL_LM, target_modules=[\"query_key_value\", \"dense_4h_to_h\"])\n",
    "config = LoraConfig(task_type=TaskType.CAUSAL_LM, target_modules=\".*\\.1.*query_key_value\", modules_to_save=[\"word_embeddings\"])\n",
    "\n",
    "print(config)"
   ]
  },
  {
   "cell_type": "markdown",
   "metadata": {},
   "source": [
    "### PEFT Step2 创建模型"
   ]
  },
  {
   "cell_type": "code",
   "execution_count": 12,
   "metadata": {},
   "outputs": [],
   "source": [
    "model = get_peft_model(model, config)"
   ]
  },
  {
   "cell_type": "code",
   "execution_count": 13,
   "metadata": {},
   "outputs": [
    {
     "name": "stdout",
     "output_type": "stream",
     "text": [
      "LoraConfig(peft_type=<PeftType.LORA: 'LORA'>, auto_mapping=None, base_model_name_or_path='D:/pretrained_model/models--Langboat--bloom-1b4-zh', revision=None, task_type=<TaskType.CAUSAL_LM: 'CAUSAL_LM'>, inference_mode=False, r=8, target_modules='.*\\\\.1.*query_key_value', lora_alpha=8, lora_dropout=0.0, fan_in_fan_out=False, bias='none', use_rslora=False, modules_to_save=['word_embeddings'], init_lora_weights=True, layers_to_transform=None, layers_pattern=None, rank_pattern={}, alpha_pattern={}, megatron_config=None, megatron_core='megatron.core', loftq_config={}, use_dora=False, layer_replication=None)\n"
     ]
    }
   ],
   "source": [
    "print(config)"
   ]
  },
  {
   "cell_type": "code",
   "execution_count": 14,
   "metadata": {},
   "outputs": [
    {
     "name": "stdout",
     "output_type": "stream",
     "text": [
      "base_model.model.transformer.word_embeddings.original_module.weight\n",
      "base_model.model.transformer.word_embeddings.modules_to_save.default.weight\n",
      "base_model.model.transformer.word_embeddings_layernorm.weight\n",
      "base_model.model.transformer.word_embeddings_layernorm.bias\n",
      "base_model.model.transformer.h.0.input_layernorm.weight\n",
      "base_model.model.transformer.h.0.input_layernorm.bias\n",
      "base_model.model.transformer.h.0.self_attention.query_key_value.weight\n",
      "base_model.model.transformer.h.0.self_attention.query_key_value.bias\n",
      "base_model.model.transformer.h.0.self_attention.dense.weight\n",
      "base_model.model.transformer.h.0.self_attention.dense.bias\n",
      "base_model.model.transformer.h.0.post_attention_layernorm.weight\n",
      "base_model.model.transformer.h.0.post_attention_layernorm.bias\n",
      "base_model.model.transformer.h.0.mlp.dense_h_to_4h.weight\n",
      "base_model.model.transformer.h.0.mlp.dense_h_to_4h.bias\n",
      "base_model.model.transformer.h.0.mlp.dense_4h_to_h.weight\n",
      "base_model.model.transformer.h.0.mlp.dense_4h_to_h.bias\n",
      "base_model.model.transformer.h.1.input_layernorm.weight\n",
      "base_model.model.transformer.h.1.input_layernorm.bias\n",
      "base_model.model.transformer.h.1.self_attention.query_key_value.base_layer.weight\n",
      "base_model.model.transformer.h.1.self_attention.query_key_value.base_layer.bias\n",
      "base_model.model.transformer.h.1.self_attention.query_key_value.lora_A.default.weight\n",
      "base_model.model.transformer.h.1.self_attention.query_key_value.lora_B.default.weight\n",
      "base_model.model.transformer.h.1.self_attention.dense.weight\n",
      "base_model.model.transformer.h.1.self_attention.dense.bias\n",
      "base_model.model.transformer.h.1.post_attention_layernorm.weight\n",
      "base_model.model.transformer.h.1.post_attention_layernorm.bias\n",
      "base_model.model.transformer.h.1.mlp.dense_h_to_4h.weight\n",
      "base_model.model.transformer.h.1.mlp.dense_h_to_4h.bias\n",
      "base_model.model.transformer.h.1.mlp.dense_4h_to_h.weight\n",
      "base_model.model.transformer.h.1.mlp.dense_4h_to_h.bias\n",
      "base_model.model.transformer.h.2.input_layernorm.weight\n",
      "base_model.model.transformer.h.2.input_layernorm.bias\n",
      "base_model.model.transformer.h.2.self_attention.query_key_value.weight\n",
      "base_model.model.transformer.h.2.self_attention.query_key_value.bias\n",
      "base_model.model.transformer.h.2.self_attention.dense.weight\n",
      "base_model.model.transformer.h.2.self_attention.dense.bias\n",
      "base_model.model.transformer.h.2.post_attention_layernorm.weight\n",
      "base_model.model.transformer.h.2.post_attention_layernorm.bias\n",
      "base_model.model.transformer.h.2.mlp.dense_h_to_4h.weight\n",
      "base_model.model.transformer.h.2.mlp.dense_h_to_4h.bias\n",
      "base_model.model.transformer.h.2.mlp.dense_4h_to_h.weight\n",
      "base_model.model.transformer.h.2.mlp.dense_4h_to_h.bias\n",
      "base_model.model.transformer.h.3.input_layernorm.weight\n",
      "base_model.model.transformer.h.3.input_layernorm.bias\n",
      "base_model.model.transformer.h.3.self_attention.query_key_value.weight\n",
      "base_model.model.transformer.h.3.self_attention.query_key_value.bias\n",
      "base_model.model.transformer.h.3.self_attention.dense.weight\n",
      "base_model.model.transformer.h.3.self_attention.dense.bias\n",
      "base_model.model.transformer.h.3.post_attention_layernorm.weight\n",
      "base_model.model.transformer.h.3.post_attention_layernorm.bias\n",
      "base_model.model.transformer.h.3.mlp.dense_h_to_4h.weight\n",
      "base_model.model.transformer.h.3.mlp.dense_h_to_4h.bias\n",
      "base_model.model.transformer.h.3.mlp.dense_4h_to_h.weight\n",
      "base_model.model.transformer.h.3.mlp.dense_4h_to_h.bias\n",
      "base_model.model.transformer.h.4.input_layernorm.weight\n",
      "base_model.model.transformer.h.4.input_layernorm.bias\n",
      "base_model.model.transformer.h.4.self_attention.query_key_value.weight\n",
      "base_model.model.transformer.h.4.self_attention.query_key_value.bias\n",
      "base_model.model.transformer.h.4.self_attention.dense.weight\n",
      "base_model.model.transformer.h.4.self_attention.dense.bias\n",
      "base_model.model.transformer.h.4.post_attention_layernorm.weight\n",
      "base_model.model.transformer.h.4.post_attention_layernorm.bias\n",
      "base_model.model.transformer.h.4.mlp.dense_h_to_4h.weight\n",
      "base_model.model.transformer.h.4.mlp.dense_h_to_4h.bias\n",
      "base_model.model.transformer.h.4.mlp.dense_4h_to_h.weight\n",
      "base_model.model.transformer.h.4.mlp.dense_4h_to_h.bias\n",
      "base_model.model.transformer.h.5.input_layernorm.weight\n",
      "base_model.model.transformer.h.5.input_layernorm.bias\n",
      "base_model.model.transformer.h.5.self_attention.query_key_value.weight\n",
      "base_model.model.transformer.h.5.self_attention.query_key_value.bias\n",
      "base_model.model.transformer.h.5.self_attention.dense.weight\n",
      "base_model.model.transformer.h.5.self_attention.dense.bias\n",
      "base_model.model.transformer.h.5.post_attention_layernorm.weight\n",
      "base_model.model.transformer.h.5.post_attention_layernorm.bias\n",
      "base_model.model.transformer.h.5.mlp.dense_h_to_4h.weight\n",
      "base_model.model.transformer.h.5.mlp.dense_h_to_4h.bias\n",
      "base_model.model.transformer.h.5.mlp.dense_4h_to_h.weight\n",
      "base_model.model.transformer.h.5.mlp.dense_4h_to_h.bias\n",
      "base_model.model.transformer.h.6.input_layernorm.weight\n",
      "base_model.model.transformer.h.6.input_layernorm.bias\n",
      "base_model.model.transformer.h.6.self_attention.query_key_value.weight\n",
      "base_model.model.transformer.h.6.self_attention.query_key_value.bias\n",
      "base_model.model.transformer.h.6.self_attention.dense.weight\n",
      "base_model.model.transformer.h.6.self_attention.dense.bias\n",
      "base_model.model.transformer.h.6.post_attention_layernorm.weight\n",
      "base_model.model.transformer.h.6.post_attention_layernorm.bias\n",
      "base_model.model.transformer.h.6.mlp.dense_h_to_4h.weight\n",
      "base_model.model.transformer.h.6.mlp.dense_h_to_4h.bias\n",
      "base_model.model.transformer.h.6.mlp.dense_4h_to_h.weight\n",
      "base_model.model.transformer.h.6.mlp.dense_4h_to_h.bias\n",
      "base_model.model.transformer.h.7.input_layernorm.weight\n",
      "base_model.model.transformer.h.7.input_layernorm.bias\n",
      "base_model.model.transformer.h.7.self_attention.query_key_value.weight\n",
      "base_model.model.transformer.h.7.self_attention.query_key_value.bias\n",
      "base_model.model.transformer.h.7.self_attention.dense.weight\n",
      "base_model.model.transformer.h.7.self_attention.dense.bias\n",
      "base_model.model.transformer.h.7.post_attention_layernorm.weight\n",
      "base_model.model.transformer.h.7.post_attention_layernorm.bias\n",
      "base_model.model.transformer.h.7.mlp.dense_h_to_4h.weight\n",
      "base_model.model.transformer.h.7.mlp.dense_h_to_4h.bias\n",
      "base_model.model.transformer.h.7.mlp.dense_4h_to_h.weight\n",
      "base_model.model.transformer.h.7.mlp.dense_4h_to_h.bias\n",
      "base_model.model.transformer.h.8.input_layernorm.weight\n",
      "base_model.model.transformer.h.8.input_layernorm.bias\n",
      "base_model.model.transformer.h.8.self_attention.query_key_value.weight\n",
      "base_model.model.transformer.h.8.self_attention.query_key_value.bias\n",
      "base_model.model.transformer.h.8.self_attention.dense.weight\n",
      "base_model.model.transformer.h.8.self_attention.dense.bias\n",
      "base_model.model.transformer.h.8.post_attention_layernorm.weight\n",
      "base_model.model.transformer.h.8.post_attention_layernorm.bias\n",
      "base_model.model.transformer.h.8.mlp.dense_h_to_4h.weight\n",
      "base_model.model.transformer.h.8.mlp.dense_h_to_4h.bias\n",
      "base_model.model.transformer.h.8.mlp.dense_4h_to_h.weight\n",
      "base_model.model.transformer.h.8.mlp.dense_4h_to_h.bias\n",
      "base_model.model.transformer.h.9.input_layernorm.weight\n",
      "base_model.model.transformer.h.9.input_layernorm.bias\n",
      "base_model.model.transformer.h.9.self_attention.query_key_value.weight\n",
      "base_model.model.transformer.h.9.self_attention.query_key_value.bias\n",
      "base_model.model.transformer.h.9.self_attention.dense.weight\n",
      "base_model.model.transformer.h.9.self_attention.dense.bias\n",
      "base_model.model.transformer.h.9.post_attention_layernorm.weight\n",
      "base_model.model.transformer.h.9.post_attention_layernorm.bias\n",
      "base_model.model.transformer.h.9.mlp.dense_h_to_4h.weight\n",
      "base_model.model.transformer.h.9.mlp.dense_h_to_4h.bias\n",
      "base_model.model.transformer.h.9.mlp.dense_4h_to_h.weight\n",
      "base_model.model.transformer.h.9.mlp.dense_4h_to_h.bias\n",
      "base_model.model.transformer.h.10.input_layernorm.weight\n",
      "base_model.model.transformer.h.10.input_layernorm.bias\n",
      "base_model.model.transformer.h.10.self_attention.query_key_value.base_layer.weight\n",
      "base_model.model.transformer.h.10.self_attention.query_key_value.base_layer.bias\n",
      "base_model.model.transformer.h.10.self_attention.query_key_value.lora_A.default.weight\n",
      "base_model.model.transformer.h.10.self_attention.query_key_value.lora_B.default.weight\n",
      "base_model.model.transformer.h.10.self_attention.dense.weight\n",
      "base_model.model.transformer.h.10.self_attention.dense.bias\n",
      "base_model.model.transformer.h.10.post_attention_layernorm.weight\n",
      "base_model.model.transformer.h.10.post_attention_layernorm.bias\n",
      "base_model.model.transformer.h.10.mlp.dense_h_to_4h.weight\n",
      "base_model.model.transformer.h.10.mlp.dense_h_to_4h.bias\n",
      "base_model.model.transformer.h.10.mlp.dense_4h_to_h.weight\n",
      "base_model.model.transformer.h.10.mlp.dense_4h_to_h.bias\n",
      "base_model.model.transformer.h.11.input_layernorm.weight\n",
      "base_model.model.transformer.h.11.input_layernorm.bias\n",
      "base_model.model.transformer.h.11.self_attention.query_key_value.base_layer.weight\n",
      "base_model.model.transformer.h.11.self_attention.query_key_value.base_layer.bias\n",
      "base_model.model.transformer.h.11.self_attention.query_key_value.lora_A.default.weight\n",
      "base_model.model.transformer.h.11.self_attention.query_key_value.lora_B.default.weight\n",
      "base_model.model.transformer.h.11.self_attention.dense.weight\n",
      "base_model.model.transformer.h.11.self_attention.dense.bias\n",
      "base_model.model.transformer.h.11.post_attention_layernorm.weight\n",
      "base_model.model.transformer.h.11.post_attention_layernorm.bias\n",
      "base_model.model.transformer.h.11.mlp.dense_h_to_4h.weight\n",
      "base_model.model.transformer.h.11.mlp.dense_h_to_4h.bias\n",
      "base_model.model.transformer.h.11.mlp.dense_4h_to_h.weight\n",
      "base_model.model.transformer.h.11.mlp.dense_4h_to_h.bias\n",
      "base_model.model.transformer.h.12.input_layernorm.weight\n",
      "base_model.model.transformer.h.12.input_layernorm.bias\n",
      "base_model.model.transformer.h.12.self_attention.query_key_value.base_layer.weight\n",
      "base_model.model.transformer.h.12.self_attention.query_key_value.base_layer.bias\n",
      "base_model.model.transformer.h.12.self_attention.query_key_value.lora_A.default.weight\n",
      "base_model.model.transformer.h.12.self_attention.query_key_value.lora_B.default.weight\n",
      "base_model.model.transformer.h.12.self_attention.dense.weight\n",
      "base_model.model.transformer.h.12.self_attention.dense.bias\n",
      "base_model.model.transformer.h.12.post_attention_layernorm.weight\n",
      "base_model.model.transformer.h.12.post_attention_layernorm.bias\n",
      "base_model.model.transformer.h.12.mlp.dense_h_to_4h.weight\n",
      "base_model.model.transformer.h.12.mlp.dense_h_to_4h.bias\n",
      "base_model.model.transformer.h.12.mlp.dense_4h_to_h.weight\n",
      "base_model.model.transformer.h.12.mlp.dense_4h_to_h.bias\n",
      "base_model.model.transformer.h.13.input_layernorm.weight\n",
      "base_model.model.transformer.h.13.input_layernorm.bias\n",
      "base_model.model.transformer.h.13.self_attention.query_key_value.base_layer.weight\n",
      "base_model.model.transformer.h.13.self_attention.query_key_value.base_layer.bias\n",
      "base_model.model.transformer.h.13.self_attention.query_key_value.lora_A.default.weight\n",
      "base_model.model.transformer.h.13.self_attention.query_key_value.lora_B.default.weight\n",
      "base_model.model.transformer.h.13.self_attention.dense.weight\n",
      "base_model.model.transformer.h.13.self_attention.dense.bias\n",
      "base_model.model.transformer.h.13.post_attention_layernorm.weight\n",
      "base_model.model.transformer.h.13.post_attention_layernorm.bias\n",
      "base_model.model.transformer.h.13.mlp.dense_h_to_4h.weight\n",
      "base_model.model.transformer.h.13.mlp.dense_h_to_4h.bias\n",
      "base_model.model.transformer.h.13.mlp.dense_4h_to_h.weight\n",
      "base_model.model.transformer.h.13.mlp.dense_4h_to_h.bias\n",
      "base_model.model.transformer.h.14.input_layernorm.weight\n",
      "base_model.model.transformer.h.14.input_layernorm.bias\n",
      "base_model.model.transformer.h.14.self_attention.query_key_value.base_layer.weight\n",
      "base_model.model.transformer.h.14.self_attention.query_key_value.base_layer.bias\n",
      "base_model.model.transformer.h.14.self_attention.query_key_value.lora_A.default.weight\n",
      "base_model.model.transformer.h.14.self_attention.query_key_value.lora_B.default.weight\n",
      "base_model.model.transformer.h.14.self_attention.dense.weight\n",
      "base_model.model.transformer.h.14.self_attention.dense.bias\n",
      "base_model.model.transformer.h.14.post_attention_layernorm.weight\n",
      "base_model.model.transformer.h.14.post_attention_layernorm.bias\n",
      "base_model.model.transformer.h.14.mlp.dense_h_to_4h.weight\n",
      "base_model.model.transformer.h.14.mlp.dense_h_to_4h.bias\n",
      "base_model.model.transformer.h.14.mlp.dense_4h_to_h.weight\n",
      "base_model.model.transformer.h.14.mlp.dense_4h_to_h.bias\n",
      "base_model.model.transformer.h.15.input_layernorm.weight\n",
      "base_model.model.transformer.h.15.input_layernorm.bias\n",
      "base_model.model.transformer.h.15.self_attention.query_key_value.base_layer.weight\n",
      "base_model.model.transformer.h.15.self_attention.query_key_value.base_layer.bias\n",
      "base_model.model.transformer.h.15.self_attention.query_key_value.lora_A.default.weight\n",
      "base_model.model.transformer.h.15.self_attention.query_key_value.lora_B.default.weight\n",
      "base_model.model.transformer.h.15.self_attention.dense.weight\n",
      "base_model.model.transformer.h.15.self_attention.dense.bias\n",
      "base_model.model.transformer.h.15.post_attention_layernorm.weight\n",
      "base_model.model.transformer.h.15.post_attention_layernorm.bias\n",
      "base_model.model.transformer.h.15.mlp.dense_h_to_4h.weight\n",
      "base_model.model.transformer.h.15.mlp.dense_h_to_4h.bias\n",
      "base_model.model.transformer.h.15.mlp.dense_4h_to_h.weight\n",
      "base_model.model.transformer.h.15.mlp.dense_4h_to_h.bias\n",
      "base_model.model.transformer.h.16.input_layernorm.weight\n",
      "base_model.model.transformer.h.16.input_layernorm.bias\n",
      "base_model.model.transformer.h.16.self_attention.query_key_value.base_layer.weight\n",
      "base_model.model.transformer.h.16.self_attention.query_key_value.base_layer.bias\n",
      "base_model.model.transformer.h.16.self_attention.query_key_value.lora_A.default.weight\n",
      "base_model.model.transformer.h.16.self_attention.query_key_value.lora_B.default.weight\n",
      "base_model.model.transformer.h.16.self_attention.dense.weight\n",
      "base_model.model.transformer.h.16.self_attention.dense.bias\n",
      "base_model.model.transformer.h.16.post_attention_layernorm.weight\n",
      "base_model.model.transformer.h.16.post_attention_layernorm.bias\n",
      "base_model.model.transformer.h.16.mlp.dense_h_to_4h.weight\n",
      "base_model.model.transformer.h.16.mlp.dense_h_to_4h.bias\n",
      "base_model.model.transformer.h.16.mlp.dense_4h_to_h.weight\n",
      "base_model.model.transformer.h.16.mlp.dense_4h_to_h.bias\n",
      "base_model.model.transformer.h.17.input_layernorm.weight\n",
      "base_model.model.transformer.h.17.input_layernorm.bias\n",
      "base_model.model.transformer.h.17.self_attention.query_key_value.base_layer.weight\n",
      "base_model.model.transformer.h.17.self_attention.query_key_value.base_layer.bias\n",
      "base_model.model.transformer.h.17.self_attention.query_key_value.lora_A.default.weight\n",
      "base_model.model.transformer.h.17.self_attention.query_key_value.lora_B.default.weight\n",
      "base_model.model.transformer.h.17.self_attention.dense.weight\n",
      "base_model.model.transformer.h.17.self_attention.dense.bias\n",
      "base_model.model.transformer.h.17.post_attention_layernorm.weight\n",
      "base_model.model.transformer.h.17.post_attention_layernorm.bias\n",
      "base_model.model.transformer.h.17.mlp.dense_h_to_4h.weight\n",
      "base_model.model.transformer.h.17.mlp.dense_h_to_4h.bias\n",
      "base_model.model.transformer.h.17.mlp.dense_4h_to_h.weight\n",
      "base_model.model.transformer.h.17.mlp.dense_4h_to_h.bias\n",
      "base_model.model.transformer.h.18.input_layernorm.weight\n",
      "base_model.model.transformer.h.18.input_layernorm.bias\n",
      "base_model.model.transformer.h.18.self_attention.query_key_value.base_layer.weight\n",
      "base_model.model.transformer.h.18.self_attention.query_key_value.base_layer.bias\n",
      "base_model.model.transformer.h.18.self_attention.query_key_value.lora_A.default.weight\n",
      "base_model.model.transformer.h.18.self_attention.query_key_value.lora_B.default.weight\n",
      "base_model.model.transformer.h.18.self_attention.dense.weight\n",
      "base_model.model.transformer.h.18.self_attention.dense.bias\n",
      "base_model.model.transformer.h.18.post_attention_layernorm.weight\n",
      "base_model.model.transformer.h.18.post_attention_layernorm.bias\n",
      "base_model.model.transformer.h.18.mlp.dense_h_to_4h.weight\n",
      "base_model.model.transformer.h.18.mlp.dense_h_to_4h.bias\n",
      "base_model.model.transformer.h.18.mlp.dense_4h_to_h.weight\n",
      "base_model.model.transformer.h.18.mlp.dense_4h_to_h.bias\n",
      "base_model.model.transformer.h.19.input_layernorm.weight\n",
      "base_model.model.transformer.h.19.input_layernorm.bias\n",
      "base_model.model.transformer.h.19.self_attention.query_key_value.base_layer.weight\n",
      "base_model.model.transformer.h.19.self_attention.query_key_value.base_layer.bias\n",
      "base_model.model.transformer.h.19.self_attention.query_key_value.lora_A.default.weight\n",
      "base_model.model.transformer.h.19.self_attention.query_key_value.lora_B.default.weight\n",
      "base_model.model.transformer.h.19.self_attention.dense.weight\n",
      "base_model.model.transformer.h.19.self_attention.dense.bias\n",
      "base_model.model.transformer.h.19.post_attention_layernorm.weight\n",
      "base_model.model.transformer.h.19.post_attention_layernorm.bias\n",
      "base_model.model.transformer.h.19.mlp.dense_h_to_4h.weight\n",
      "base_model.model.transformer.h.19.mlp.dense_h_to_4h.bias\n",
      "base_model.model.transformer.h.19.mlp.dense_4h_to_h.weight\n",
      "base_model.model.transformer.h.19.mlp.dense_4h_to_h.bias\n",
      "base_model.model.transformer.h.20.input_layernorm.weight\n",
      "base_model.model.transformer.h.20.input_layernorm.bias\n",
      "base_model.model.transformer.h.20.self_attention.query_key_value.weight\n",
      "base_model.model.transformer.h.20.self_attention.query_key_value.bias\n",
      "base_model.model.transformer.h.20.self_attention.dense.weight\n",
      "base_model.model.transformer.h.20.self_attention.dense.bias\n",
      "base_model.model.transformer.h.20.post_attention_layernorm.weight\n",
      "base_model.model.transformer.h.20.post_attention_layernorm.bias\n",
      "base_model.model.transformer.h.20.mlp.dense_h_to_4h.weight\n",
      "base_model.model.transformer.h.20.mlp.dense_h_to_4h.bias\n",
      "base_model.model.transformer.h.20.mlp.dense_4h_to_h.weight\n",
      "base_model.model.transformer.h.20.mlp.dense_4h_to_h.bias\n",
      "base_model.model.transformer.h.21.input_layernorm.weight\n",
      "base_model.model.transformer.h.21.input_layernorm.bias\n",
      "base_model.model.transformer.h.21.self_attention.query_key_value.weight\n",
      "base_model.model.transformer.h.21.self_attention.query_key_value.bias\n",
      "base_model.model.transformer.h.21.self_attention.dense.weight\n",
      "base_model.model.transformer.h.21.self_attention.dense.bias\n",
      "base_model.model.transformer.h.21.post_attention_layernorm.weight\n",
      "base_model.model.transformer.h.21.post_attention_layernorm.bias\n",
      "base_model.model.transformer.h.21.mlp.dense_h_to_4h.weight\n",
      "base_model.model.transformer.h.21.mlp.dense_h_to_4h.bias\n",
      "base_model.model.transformer.h.21.mlp.dense_4h_to_h.weight\n",
      "base_model.model.transformer.h.21.mlp.dense_4h_to_h.bias\n",
      "base_model.model.transformer.h.22.input_layernorm.weight\n",
      "base_model.model.transformer.h.22.input_layernorm.bias\n",
      "base_model.model.transformer.h.22.self_attention.query_key_value.weight\n",
      "base_model.model.transformer.h.22.self_attention.query_key_value.bias\n",
      "base_model.model.transformer.h.22.self_attention.dense.weight\n",
      "base_model.model.transformer.h.22.self_attention.dense.bias\n",
      "base_model.model.transformer.h.22.post_attention_layernorm.weight\n",
      "base_model.model.transformer.h.22.post_attention_layernorm.bias\n",
      "base_model.model.transformer.h.22.mlp.dense_h_to_4h.weight\n",
      "base_model.model.transformer.h.22.mlp.dense_h_to_4h.bias\n",
      "base_model.model.transformer.h.22.mlp.dense_4h_to_h.weight\n",
      "base_model.model.transformer.h.22.mlp.dense_4h_to_h.bias\n",
      "base_model.model.transformer.h.23.input_layernorm.weight\n",
      "base_model.model.transformer.h.23.input_layernorm.bias\n",
      "base_model.model.transformer.h.23.self_attention.query_key_value.weight\n",
      "base_model.model.transformer.h.23.self_attention.query_key_value.bias\n",
      "base_model.model.transformer.h.23.self_attention.dense.weight\n",
      "base_model.model.transformer.h.23.self_attention.dense.bias\n",
      "base_model.model.transformer.h.23.post_attention_layernorm.weight\n",
      "base_model.model.transformer.h.23.post_attention_layernorm.bias\n",
      "base_model.model.transformer.h.23.mlp.dense_h_to_4h.weight\n",
      "base_model.model.transformer.h.23.mlp.dense_h_to_4h.bias\n",
      "base_model.model.transformer.h.23.mlp.dense_4h_to_h.weight\n",
      "base_model.model.transformer.h.23.mlp.dense_4h_to_h.bias\n",
      "base_model.model.transformer.ln_f.weight\n",
      "base_model.model.transformer.ln_f.bias\n"
     ]
    }
   ],
   "source": [
    "for name, parameter in model.named_parameters():\n",
    "    print(name)"
   ]
  },
  {
   "cell_type": "code",
   "execution_count": 15,
   "metadata": {},
   "outputs": [
    {
     "name": "stdout",
     "output_type": "stream",
     "text": [
      "trainable params: 95,225,856 || all params: 1,398,337,536 || trainable%: 6.8099\n"
     ]
    }
   ],
   "source": [
    "model.print_trainable_parameters()"
   ]
  },
  {
   "cell_type": "markdown",
   "metadata": {},
   "source": [
    "## Step5 配置训练参数"
   ]
  },
  {
   "cell_type": "code",
   "execution_count": 18,
   "metadata": {},
   "outputs": [],
   "source": [
    "args = TrainingArguments(\n",
    "    output_dir=\"./chatbot_lora\",\n",
    "    per_device_train_batch_size=1,\n",
    "    gradient_accumulation_steps=8,\n",
    "    logging_steps=10,\n",
    "    num_train_epochs=1\n",
    ")"
   ]
  },
  {
   "cell_type": "markdown",
   "metadata": {},
   "source": [
    "## Step6 创建训练器"
   ]
  },
  {
   "cell_type": "code",
   "execution_count": 19,
   "metadata": {},
   "outputs": [],
   "source": [
    "trainer = Trainer(\n",
    "    model=model,\n",
    "    args=args,\n",
    "    tokenizer=tokenizer,\n",
    "    train_dataset=tokenized_ds,\n",
    "    data_collator=DataCollatorForSeq2Seq(tokenizer=tokenizer, padding=True),\n",
    ")"
   ]
  },
  {
   "cell_type": "markdown",
   "metadata": {},
   "source": [
    "## Step7 模型训练"
   ]
  },
  {
   "cell_type": "code",
   "execution_count": null,
   "metadata": {},
   "outputs": [],
   "source": [
    "trainer.train()"
   ]
  },
  {
   "cell_type": "markdown",
   "metadata": {},
   "source": [
    "## Step8 模型推理"
   ]
  },
  {
   "cell_type": "code",
   "execution_count": null,
   "metadata": {},
   "outputs": [],
   "source": [
    "model = model.cuda()\n",
    "ipt = tokenizer(\"Human: {}\\n{}\".format(\"考试有哪些技巧？\", \"\").strip() + \"\\n\\nAssistant: \", return_tensors=\"pt\").to(model.device)\n",
    "tokenizer.decode(model.generate(**ipt, max_length=128, do_sample=True)[0], skip_special_tokens=True)"
   ]
  },
  {
   "cell_type": "code",
   "execution_count": null,
   "metadata": {},
   "outputs": [],
   "source": []
  },
  {
   "cell_type": "markdown",
   "metadata": {},
   "source": [
    "## 模型加载"
   ]
  },
  {
   "cell_type": "code",
   "execution_count": 16,
   "metadata": {},
   "outputs": [],
   "source": [
    "from transformers import AutoModelForCausalLM, AutoTokenizer\n",
    "\n",
    "from peft import PeftModel"
   ]
  },
  {
   "cell_type": "code",
   "execution_count": null,
   "metadata": {},
   "outputs": [],
   "source": [
    "model = AutoModelForCausalLM.from_pretrained(\"Langboat/bloom-1b4-zh\")\n",
    "tokenizer = AutoTokenizer.from_pretrained(\"Langboat/bloom-1b4-zh\")\n",
    "p_model = PeftModel.from_pretrained(model, model_id=\"./chatbot/checkpoint-500/\")\n",
    "p_model"
   ]
  },
  {
   "cell_type": "markdown",
   "metadata": {},
   "source": [
    "## 模型合并和保存"
   ]
  },
  {
   "cell_type": "code",
   "execution_count": null,
   "metadata": {},
   "outputs": [],
   "source": [
    "merge_model = p_model.merge_and_unload()\n",
    "merge_model"
   ]
  },
  {
   "cell_type": "code",
   "execution_count": null,
   "metadata": {},
   "outputs": [],
   "source": [
    "ipt = tokenizer(\"Human: {}\\n{}\".format(\"考试有哪些技巧？\", \"\").strip() + \"\\n\\nAssistant: \", return_tensors=\"pt\")\n",
    "tokenizer.decode(merge_model.generate(**ipt, do_sample=False)[0], skip_special_tokens=True)"
   ]
  },
  {
   "cell_type": "code",
   "execution_count": null,
   "metadata": {},
   "outputs": [],
   "source": [
    "merge_model.save_pretrained(\"./chatbot/merge_model\")"
   ]
  }
 ],
 "metadata": {
  "kernelspec": {
   "display_name": "py39",
   "language": "python",
   "name": "python3"
  },
  "language_info": {
   "codemirror_mode": {
    "name": "ipython",
    "version": 3
   },
   "file_extension": ".py",
   "mimetype": "text/x-python",
   "name": "python",
   "nbconvert_exporter": "python",
   "pygments_lexer": "ipython3",
   "version": "3.9.20"
  },
  "orig_nbformat": 4
 },
 "nbformat": 4,
 "nbformat_minor": 2
}
